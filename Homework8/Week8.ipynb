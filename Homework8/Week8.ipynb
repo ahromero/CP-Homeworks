{
 "cells": [
  {
   "cell_type": "markdown",
   "metadata": {},
   "source": [
    "# HW 8 and 9: ODEs and FT\n",
    "\n",
    "The goal of filling in the requested pieces is twofold: you should be able to run the worksheet and get the requested answer with the given dataset, and you should also be able to pass with different datasets (not given). These will often check unusual inputs, etc., so try to make sure all possible input datasets are accounted for.\n",
    "\n",
    "To be graded, your notebook must be runnable start to finish. If you can't make an in-notebook test pass, comment it out for to attempt to get partial credit. You should replace the `...` markers with your code. Do not change the names of the pre-defined variables and functions.\n",
    "\n",
    "Plots should have the required elements of a plot: labels, units if valid, a legend if more than one marker or line type is present. Titles are not required."
   ]
  },
  {
   "cell_type": "code",
   "execution_count": null,
   "metadata": {},
   "outputs": [],
   "source": [
    "# EID is your WVU Electronic ID\n",
    "EID = 'sixplus2'\n",
    "NAME = 'Joe Smith'"
   ]
  },
  {
   "cell_type": "code",
   "execution_count": null,
   "metadata": {},
   "outputs": [],
   "source": [
    "import scipy.integrate\n",
    "import numpy as np\n",
    "import matplotlib.pyplot as plt"
   ]
  },
  {
   "cell_type": "markdown",
   "metadata": {},
   "source": [
    "## Problem 1: Anharmonic potential\n",
    "\n",
    "Make a function that plots the motion of a oscillator with an anharmonic potential. The definition:\n",
    "\n",
    "$$\n",
    "V(x) = \\frac{1}{p} k x^{p}\n",
    "$$\n",
    "\n",
    "The value of $p$ can be any positive even integer. From this we get:\n",
    "$$\n",
    "F(x) = -V' = - k x^{p-1}\n",
    "$$\n",
    "\n",
    "So, you'll want to solve:\n",
    "$$\n",
    "m \\ddot{x} = - k x^{p-1}\n",
    "$$\n",
    "\n",
    "You'll start with $\\dot{x}(0)=0$ and $x(0) = x_\\mathrm{max}$. You can use any solver or solving method you like. You can get the min and max `t` from the array of `t`s."
   ]
  },
  {
   "cell_type": "markdown",
   "metadata": {},
   "source": [
    "$$\n",
    "u = \\left( \\begin{matrix} \\dot{x} \\\\ x \\end{matrix} \\right)\n",
    "$$\n",
    "\n",
    "$$\n",
    "\\dot{u} = \\left( \\begin{matrix} - \\frac{k}{m} x^{p-1} \\\\ \\dot{x} \\end{matrix} \\right)\n",
    "= \\left( \\begin{matrix} - \\frac{k}{m} u_1^{p-1} \\\\ u_0 \\end{matrix} \\right)\n",
    "$$"
   ]
  },
  {
   "cell_type": "code",
   "execution_count": null,
   "metadata": {},
   "outputs": [],
   "source": [
    "# Optionally you can define extra function(s) here if needed\n",
    "\n",
    "def generate_tx(k, m, p, x_max, ts):\n",
    "    '''\n",
    "    Produce a set of x values for some parameters at times ts.\n",
    "\n",
    "    Parameters\n",
    "    ----------\n",
    "    k : float\n",
    "        The \"spring\" constant\n",
    "    m : float\n",
    "        Mass of the oscillator.\n",
    "    p : float\n",
    "        The power in the potential\n",
    "    x_max : float\n",
    "        The initial (maximum) value of x\n",
    "    ts: float[:]\n",
    "        1D array of times to evaluate at.\n",
    "\n",
    "\n",
    "    Returns\n",
    "    -------\n",
    "    float[:]\n",
    "        The array of x postions at times ts.\n",
    "    '''\n",
    "    \n",
    "    # Optionally you can define an extra function here if needed\n",
    "    \n",
    "    ...\n",
    "    "
   ]
  },
  {
   "cell_type": "code",
   "execution_count": null,
   "metadata": {},
   "outputs": [],
   "source": [
    "k = 1\n",
    "m = 1\n",
    "p = 6\n",
    "x_max = 1\n",
    "ts = np.linspace(0,30,500)\n",
    "\n",
    "fig, ax = plt.subplots(figsize=(10,3.5))\n",
    "y = generate_tx(k, m, p, x_max, ts)\n",
    "ax.plot(ts,y)\n",
    "plt.show()"
   ]
  },
  {
   "cell_type": "markdown",
   "metadata": {},
   "source": [
    "## Problem 2: Scattering\n",
    "\n",
    "This is section 9.14 in the book. You have a particle scattering from a potential $V(x,y) = \\pm x^2 y^2 e^{-(x^2 + y^2)}$. I'll go ahead and express the resulting differential equation in our $u$ vector notation: "
   ]
  },
  {
   "cell_type": "markdown",
   "metadata": {},
   "source": [
    "$$\n",
    "u = \\left( \\begin{matrix}\n",
    "x \\\\\n",
    "y \\\\ \n",
    "\\dot{x} \\\\\n",
    "\\dot{y}\n",
    "\\end{matrix} \\right)\n",
    "$$\n",
    "\n",
    "$$\n",
    "\\dot{u} = \\left( \\begin{matrix}\n",
    "u_2 \\\\\n",
    "u_3 \\\\ \n",
    "\\frac{\\mp 1}{m} 2 u_1^2 u_0 (1-u_0^2) e^{-(u_0^2 + u_1^2)} \\\\\n",
    "\\frac{\\mp 1}{m} 2 u_0^2 u_1 (1-u_1^2) e^{-(u_0^2 + u_1^2)}\n",
    "\\end{matrix} \\right)\n",
    "$$\n",
    "\n",
    "You will be using the initial conditions:\n",
    "\n",
    "$$\n",
    "u(0) = \\left( \\begin{matrix}\n",
    "b \\\\\n",
    "-10 \\\\ \n",
    "0 \\\\\n",
    "0.5\n",
    "\\end{matrix} \\right)\n",
    "$$"
   ]
  },
  {
   "cell_type": "code",
   "execution_count": null,
   "metadata": {},
   "outputs": [],
   "source": [
    "m = 0.5\n",
    "sign = +1\n",
    "# using -1 would be a repulsive potential\n",
    "# Feel free to try it too, but leave the final\n",
    "# answer with the attractive version\n",
    "\n",
    "def f(t, u):\n",
    "    ... # return du/dt"
   ]
  },
  {
   "cell_type": "code",
   "execution_count": null,
   "metadata": {},
   "outputs": [],
   "source": [
    "ts = np.linspace(0,50,100)\n",
    "fig, ax = plt.subplots(figsize=(8,8))\n",
    "\n",
    "y, x = np.ogrid[-10:10:500j,-10:10:500j]\n",
    "V = x**2 * y**2 * np.exp(-(x**2 + y**2))\n",
    "plt.imshow(-np.abs(V), extent=(-10,10,-10,10),\n",
    "           cmap='gray', origin='lower')\n",
    "\n",
    "for b in np.linspace(-1,1,81):\n",
    "    ... # solve the ivp with this value of b\n",
    "    xt,yt = ... # collect the relevant parts of the solution\n",
    "    ax.plot(xt, yt, color=((b+1)/2,0,-(b-1)/2), alpha=.3)\n",
    "ax.set_xlim(-10,10)\n",
    "ax.set_ylim(-10,10)\n",
    "\n",
    "plt.show()"
   ]
  },
  {
   "cell_type": "markdown",
   "metadata": {},
   "source": [
    "## Problem 3: Cleanup\n",
    "\n",
    "Take the following code for the Adams BM method and clean it up. At each stage, rerun and make sure the output looks fine. Here's an optional suggested procedure:\n",
    "\n",
    "* Fix the formatting (4 space indent, no `;` in lines, proper spacing around variables, etc) - try an online code cleanup tool if you want, like <https://www.tutorialspoint.com/online_python_formatter.htm> to clean up spacing (though be careful; that tool will remove the necessary parenthesis around the print function contents.) There are places it adds a bit too much space, like `[:n + 1]`, but it's a good start.\n",
    "* Drop unneeded characters, like the `.` or `.0` after values (unless you explicitly want an float, such as in a definition), or the `0,` in a `range(0, x)`, or parenthesis around return statements.\n",
    "* Replace the `%` formatting with an f-string or `.format(...)`\n",
    "* Replace the lists with numpy arrays, and use the correct length instead of 500. This should allow you to clean up several uses of `t`, `y`, and `yy`, and replace the list comprehension of `ysol` with a numpy expression.\n",
    "* Drop as many loops as you can; though several loops may not be able to be removed. You can at least factor out the `t` calculation and make that a simple numpy expression involving `linspace` or `arange` near the beginning of the function.\n",
    "* Move the globals (`t`, `y`, `yy`) into the proper functions. You might want to restart the kernel before rerunning after this step just to make sure the global variables are gone. And the global `yy` is actually unused. You can also move `n`, `A`, and `B` into the function call at the end, rather than defining them at the top. You can use `len(t)` instead of `n` in the print loop.\n",
    "* Clean up `rk4`. The parameter `t` is unused in the `rk4` function; it's immediately replaced. You can either only modify `y`, or return `y` instead of doing both (which is really confusing). It also does not need to loop; it's really only being used to calculate one value at a time. You could pass in `t[0], y[0]` and get `y[1]` back, then repeat.\n",
    "* Use `n` instead of a hard-coded 24 in `h2`\n",
    "* Replace `F0`, `F1`, `F2`, `F3` with an array. You can then \"roll\" the array with a one line expression each time instead of the manual roll that is done. Note that `f` accepts array arguments, so the initial `F` calculation is expressible in one line as long as you compute `F[4]` and then replace it later before using it.\n",
    "* See if any lines are better moved/rearranged.\n",
    "\n",
    "I will expect most of the cleanups to be completed; though you can take a different path or do several of them different ways; just make sure it is similar in legibility. I will not require every point to be done."
   ]
  },
  {
   "cell_type": "code",
   "execution_count": null,
   "metadata": {},
   "outputs": [],
   "source": [
    "\"\"\" From \"COMPUTATIONAL PHYSICS\", 3rd Ed, Enlarged Python eTextBook  \n",
    "    by RH Landau, MJ Paez, and CC Bordeianu\n",
    "    Copyright Wiley-VCH Verlag GmbH & Co. KGaA, Berlin;  Copyright R Landau,\n",
    "    Oregon State Unv, MJ Paez, Univ Antioquia, C Bordeianu, Univ Bucharest, 2015.\n",
    "    Support by National Science Foundation\"\"\"\n",
    "\n",
    "# ABM.py:   Adams BM method to integrate ODE\n",
    "# Solves y' = (t - y)/2,    with y[0] = 1 over [0, 3]\n",
    "\n",
    "import numpy as np\n",
    "\n",
    "n = 24                                                 # N steps > 3\n",
    "A = 0; B = 3.                                           \n",
    "t =[0]*500;     y =[0]*500;     yy=[0]*4     \n",
    "                        \n",
    "def f(t, y):                                      # RHS F function\n",
    "    return  (t - y)/2.0\n",
    "\n",
    "def rk4(t, yy, h1):             \n",
    "    for i in range(0, 3):\n",
    "        t  = h1 * i\n",
    "        k0 = h1 * f(t, y[i])\n",
    "        k1 = h1 * f(t + h1/2., yy[i] + k0/2.)\n",
    "        k2 = h1 * f(t + h1/2., yy[i] + k1/2.)\n",
    "        k3 = h1 * f(t + h1, yy[i] + k2 )\n",
    "        yy[i + 1] = yy[i]  +  (1./6.) * (k0  +  2.*k1  +  2.*k2 + k3)\n",
    "    return yy[3]\n",
    "\n",
    "def ABM(a,b,N):\n",
    "# Compute 3 additional starting values using rk\n",
    "   h = (b-a) / N                          # step\n",
    "   t[0] = a;    y[0] = 1.00;    F0  = f(t[0], y[0])\n",
    "   for k in range(1, 4):                   \n",
    "      t[k] = a  +  k * h\n",
    "   y[1]  = rk4(t[1], y, h)                      # 1st step\n",
    "   y[2]  = rk4(t[2], y, h)                      # 2nd step\n",
    "   y[3] = rk4(t[3], y, h)                       # 3rd step\n",
    "   F1 = f(t[1], y[1])        \n",
    "   F2 = f(t[2], y[2])        \n",
    "   F3 = f(t[3], y[3])\n",
    "   h2 = h/24.\n",
    "\n",
    "   for k in range(3, N):                               # Predictor\n",
    "      p = y[k]  +  h2*(-9.*F0  +  37.*F1 - 59.*F2 + 55.*F3)\n",
    "      t[k + 1] = a + h*(k+1)                       # Next abscissa\n",
    "      F4 = f(t[k+1], p)                        \n",
    "      y[k+1] = y[k] + h2*(F1-5.*F2 + 19.*F3 + 9.*F4)   # Corrector\n",
    "      F0 = F1                                     # Update values\n",
    "      F1 = F2\n",
    "      F2 = F3\n",
    "      F3 = f(t[k + 1], y[k + 1])\n",
    "   return t,y\n",
    "\n",
    "print(\"  k     t      Y numerical      Y exact\")\n",
    "t, y = ABM(A,B,n)\n",
    "ysol = [3.*np.exp(-tv/2.) - 2. + tv for tv in t]\n",
    "\n",
    "for k in range(0, n+1):\n",
    "    print(\" %3d  %5.3f  %12.11f  %12.11f \" % (k,t[k],y[k],ysol[k]))\n",
    "\n",
    "plt.plot(t[:n+1], y[:n+1], 'o')\n",
    "plt.plot(t[:n+1], ysol[:n+1])\n",
    "plt.show()"
   ]
  },
  {
   "cell_type": "markdown",
   "metadata": {},
   "source": [
    "## Problem 4: Cycloid as a Fourier Series\n",
    "\n",
    "The (parametric) equation for a Cycloid is:\n",
    "\n",
    "$$\n",
    "x = a (t - \\sin t)\\\\\n",
    "y = a (1 - \\cos t)\n",
    "$$\n",
    "\n",
    "We can't write a closed form solution for y in terms of x, but we can make a numerical Fourier series."
   ]
  },
  {
   "cell_type": "code",
   "execution_count": null,
   "metadata": {},
   "outputs": [],
   "source": [
    "a = 1\n",
    "t = np.linspace(0,2*np.pi*3,100)\n",
    "x = a * (t - np.sin(t))\n",
    "y = a * (1 - np.cos(t))\n",
    "\n",
    "fig, ax = plt.subplots(figsize=(8,1.8))\n",
    "ax.plot(x,y,'.-')\n",
    "plt.show()"
   ]
  },
  {
   "cell_type": "markdown",
   "metadata": {},
   "source": [
    "If we plug this into the Fourier formula (assuming even functions only, and setting $a = 1$), we get:\n",
    "$$\n",
    "a_n = \\frac{1}{\\pi}  \\int_0^{2\\pi} (1 - \\cos(t)) \\cos \\left( n x \\right) \\, dx\n",
    "$$\n",
    "\n",
    "Substituting for $x$ and $dx=a(1 - \\cos t) \\, dt$, and integrating over half of the range and multiplying by two, we get:\n",
    "\n",
    "$$\n",
    "a_n = \\frac{2}{\\pi} \\int_0^{\\pi}(1-\\cos{t})^2 \\cos\\left(n(t-\\sin{t})\\right)\\, dt\n",
    "$$\n",
    "\n",
    "Integrate this using a numerical technique and return the Fourier coefficients. Assume $a=1$, so a period of $2\\pi$. If you use a `scipy.integrate` function like `quad`, you'll need a function definition for $a_n$. You can pass arguments in for `n`, or you can put the function definition itself inside the loop. Odd, but it works."
   ]
  },
  {
   "cell_type": "code",
   "execution_count": null,
   "metadata": {},
   "outputs": [],
   "source": [
    "def produce_cycloid(N):\n",
    "    '''Make N terms of a Fourier series of a Cycloid.\n",
    "\n",
    "    This produces a_n values of a Fourier series of a Cycloid. The\n",
    "    terms are numerically integrated to some unspecified precision.\n",
    "\n",
    "    Parameters\n",
    "    ----------\n",
    "    N : int\n",
    "        The number of terms in the series.\n",
    "\n",
    "    Returns\n",
    "    -------\n",
    "    float[N]\n",
    "        N terms of the series.\n",
    "    '''\n",
    "    \n",
    "    # Took me 7 lines (including a loop and a function definition inside it)\n",
    "    ..."
   ]
  },
  {
   "cell_type": "markdown",
   "metadata": {},
   "source": [
    "Using the coefficients and either the definition below or the inverse FFT, produce real-space lines that can be plotted below. If you use `irfft`, remember to scale by `len(pts)/2`. Also I see a warning in my version of Numpy about non-tuple sequences; that's okay (and particularly bad since this is a warning about Numpy *from* Numpy!)\n",
    "\n",
    "$$\n",
    "y(t) = \\frac{a_0}{2} + \\sum_{n=1}^{\\infty} \\left( a_n \\cos n \\omega t \\right)\n",
    "\\tag{1}\n",
    "$$"
   ]
  },
  {
   "cell_type": "code",
   "execution_count": null,
   "metadata": {},
   "outputs": [],
   "source": [
    "def produce_lines(v, pts=300):\n",
    "    '''Take an array of terms of a Fourier series and produce pts values.\n",
    "\n",
    "    This produces pts number of points over one period of the function the\n",
    "    Fourier series describes.\n",
    "\n",
    "    Parameters\n",
    "    ----------\n",
    "    v : float[N]\n",
    "        N terms in the series.\n",
    "        \n",
    "    pts : int\n",
    "        Number of points to produce over one period.\n",
    "\n",
    "    Returns\n",
    "    -------\n",
    "    float[pts]\n",
    "        Array of pts evaluated from the FFT, in one period.\n",
    "    '''\n",
    "    \n",
    "    # Took me 6 lines (including a loop)\n",
    "    ...\n",
    "\n",
    "def produce_lines_irfft(v, pts=300):\n",
    "    # Should be 1 line\n",
    "    ...\n",
    "\n",
    "# Lazy...\n",
    "produce_lines_irfft.__doc__ = produce_lines.__doc__"
   ]
  },
  {
   "cell_type": "markdown",
   "metadata": {},
   "source": [
    "Let's plot parametric and Fourier solutions to make sure this works. We'll make one period and then tile it to get three total periods."
   ]
  },
  {
   "cell_type": "code",
   "execution_count": null,
   "metadata": {},
   "outputs": [],
   "source": [
    "v = produce_cycloid(50)\n",
    "l = produce_lines(v, 300)\n",
    "even_x = np.linspace(0, 2*np.pi*3, 900, endpoint=False)\n",
    "\n",
    "fig, ax = plt.subplots(figsize=(8,1.8))\n",
    "ax.plot(x,y,'.')\n",
    "ax.plot(even_x, np.tile(l, 3))\n",
    "plt.show()"
   ]
  },
  {
   "cell_type": "markdown",
   "metadata": {},
   "source": [
    "## Problem 5: Fourier convolutions\n",
    "\n",
    "Take the following two signals and convolve them in Fourier space. To avoid having to pad a signal with zeros by hand, you can use the second argument of `fft` or `rfft` to set the total length."
   ]
  },
  {
   "cell_type": "code",
   "execution_count": null,
   "metadata": {},
   "outputs": [],
   "source": [
    "sig1 = np.zeros(201)\n",
    "sig1[60] = 1\n",
    "sig1[100] = 1\n",
    "sig1[165] = 1\n",
    "sig2 = (10-np.abs(np.linspace(-10,10,21)))/10"
   ]
  },
  {
   "cell_type": "code",
   "execution_count": null,
   "metadata": {},
   "outputs": [],
   "source": [
    "def conv_fft(sig1, sig2):\n",
    "    'Convolution of a signal, using an fft.'\n",
    "    # One long line or 2-3 short lines\n",
    "    ...\n",
    "\n",
    "sigf = conv_fft(sig1, sig2)"
   ]
  },
  {
   "cell_type": "markdown",
   "metadata": {},
   "source": [
    "Check that this works by doing a real-space convolution, too (any Numpy functions allowed):"
   ]
  },
  {
   "cell_type": "code",
   "execution_count": null,
   "metadata": {},
   "outputs": [],
   "source": [
    "def conv_classic(sig1, sig2):\n",
    "    'Classic convolution, probably just a wrapper around the proper numpy function.'\n",
    "    # Can be one short line\n",
    "    ...\n",
    "\n",
    "sigc = conv_classic(sig1, sig2)"
   ]
  },
  {
   "cell_type": "code",
   "execution_count": null,
   "metadata": {},
   "outputs": [],
   "source": [
    "plt.plot(sig1)\n",
    "plt.plot(sigf)\n",
    "plt.plot(sigc)\n",
    "plt.show()"
   ]
  },
  {
   "cell_type": "markdown",
   "metadata": {},
   "source": [
    "Note that this will look a little different; the \"normal\" convolution will likely be centered on the original pulses, while the fft convolution will start at the beginning, and will follow the pulses. You could center the FFT by \"rolling\" the original data to center it on the 0 bin (wrapping around to the ending bins), or by adding a third term to the convolution, the fft of a pulse at the new starting edge. You don't need to do that above (but you can if you like)."
   ]
  },
  {
   "cell_type": "markdown",
   "metadata": {},
   "source": [
    "## Problem 6: Filtering a signal\n",
    "\n",
    "Take the following signal and filter out as much noise as you can, while keeping the overall shape. Any Numpy or Scipy functions allowed."
   ]
  },
  {
   "cell_type": "code",
   "execution_count": null,
   "metadata": {},
   "outputs": [],
   "source": [
    "np.random.seed(42)\n",
    "x = np.linspace(-10,10,500)\n",
    "y = (x // 2) % 2 - .5\n",
    "y += np.random.normal(0, .1, 500)"
   ]
  },
  {
   "cell_type": "code",
   "execution_count": null,
   "metadata": {},
   "outputs": [],
   "source": [
    "plt.plot(x,y)"
   ]
  },
  {
   "cell_type": "code",
   "execution_count": null,
   "metadata": {},
   "outputs": [],
   "source": [
    "def filter_function(y):\n",
    "    'Filter a signal y. Hardcoded to work on the step function and noise produced above.'\n",
    "    # Number of lines depends on how you filter. I had one long line.\n",
    "    ...\n",
    "\n",
    "Y = filter_function(y)\n",
    "\n",
    "plt.figure()\n",
    "plt.plot(x,y)\n",
    "plt.plot(x,Y)\n",
    "plt.show()"
   ]
  }
 ],
 "metadata": {
  "kernelspec": {
   "display_name": "Python 3",
   "language": "python",
   "name": "python3"
  },
  "language_info": {
   "codemirror_mode": {
    "name": "ipython",
    "version": 3
   },
   "file_extension": ".py",
   "mimetype": "text/x-python",
   "name": "python",
   "nbconvert_exporter": "python",
   "pygments_lexer": "ipython3",
   "version": "3.7.7"
  }
 },
 "nbformat": 4,
 "nbformat_minor": 2
}
